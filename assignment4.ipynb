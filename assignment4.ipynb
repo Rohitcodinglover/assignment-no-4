{
 "cells": [
  {
   "cell_type": "code",
   "execution_count": 2,
   "id": "9cfef3ca-d304-4b59-b948-a1f04bab9f1c",
   "metadata": {},
   "outputs": [
    {
     "name": "stdout",
     "output_type": "stream",
     "text": [
      "1\n",
      "2\n",
      "3\n",
      "4\n",
      "5\n"
     ]
    }
   ],
   "source": [
    "## 1) Print numbers from 1 to 5 using a while loop.\n",
    "\n",
    "i=1\n",
    "n=5\n",
    "while i<=5:\n",
    "    print(i)\n",
    "    i=i+1"
   ]
  },
  {
   "cell_type": "code",
   "execution_count": 18,
   "id": "41b3dbf2-1d96-47d1-9120-c37c38b979d0",
   "metadata": {},
   "outputs": [
    {
     "name": "stdin",
     "output_type": "stream",
     "text": [
      "enter a number: 25\n"
     ]
    },
    {
     "name": "stdout",
     "output_type": "stream",
     "text": [
      "the sum of  25 natural number: 325\n"
     ]
    }
   ],
   "source": [
    "## 2) Calculate the sum of numbers from 1 to 10 using a while loop.\n",
    "\n",
    "def the_sum_of_natural_number(N):\n",
    "    sum=0\n",
    "    i=1\n",
    "    while i<=N:\n",
    "        sum=sum+i\n",
    "        i=i+1\n",
    "    return sum\n",
    "N=int(input(\"enter a number:\"))\n",
    "result=the_sum_of_natural_number(N)\n",
    "print(\"the sum of \",N ,\"natural number:\", result)"
   ]
  },
  {
   "cell_type": "code",
   "execution_count": 22,
   "id": "afb22956-d6bf-4b72-83f8-16f770ee30d6",
   "metadata": {},
   "outputs": [
    {
     "name": "stdin",
     "output_type": "stream",
     "text": [
      "enter a number: 4\n"
     ]
    },
    {
     "name": "stdout",
     "output_type": "stream",
     "text": [
      "the fact of  4 natural number: 24\n"
     ]
    }
   ],
   "source": [
    "##  3) Calculate the factorial of a number using a for loop.\n",
    "\n",
    "def factorial_number_is(N):\n",
    "    fact=1\n",
    "    i=1\n",
    "    while i<=N:\n",
    "        fact*=i\n",
    "        i+=1\n",
    "    return fact\n",
    "N=int(input(\"enter a number:\"))\n",
    "result= factorial_number_is(N)\n",
    "print(\"the fact of \",N ,\"natural number:\", result)"
   ]
  },
  {
   "cell_type": "code",
   "execution_count": 5,
   "id": "31109fc2-66b8-4031-872b-42bd071803cc",
   "metadata": {},
   "outputs": [
    {
     "name": "stdout",
     "output_type": "stream",
     "text": [
      "the word is rohit and it contain 2 vowels in it\n",
      "the word is is and it contain 1 vowels in it\n",
      "the word is very and it contain 1 vowels in it\n",
      "the word is nice and it contain 2 vowels in it\n",
      "the word is boys and it contain 1 vowels in it\n"
     ]
    }
   ],
   "source": [
    "## 4) Count the number of vowels in a string using a for loop.\n",
    "\n",
    "def vowel_count(s):\n",
    "    vowels = \"aeiouAEIOU\"\n",
    "    words = s.split()\n",
    "    for word in words:\n",
    "        vowel_count=len(list(filter(lambda char:char in vowels, word )))\n",
    "        print(f\"the word is {word} and it contain {vowel_count} vowels in it\")\n",
    "s=\"rohit is very nice boys\"\n",
    "vowel_count(s)"
   ]
  },
  {
   "cell_type": "code",
   "execution_count": 1,
   "id": "80a3ebea-78a6-4286-ae50-8c10a12209f7",
   "metadata": {},
   "outputs": [
    {
     "name": "stdout",
     "output_type": "stream",
     "text": [
      "*\n",
      "**\n",
      "***\n",
      "****\n",
      "*****\n"
     ]
    }
   ],
   "source": [
    "## 5) print a pattern using nested loops.\n",
    "\n",
    "row=1\n",
    "while row<=5:\n",
    "    col=1\n",
    "    while col<=row:\n",
    "        print(\"*\",end=\"\")\n",
    "        col=col+1\n",
    "    print()\n",
    "    row=row+1\n",
    "        "
   ]
  },
  {
   "cell_type": "code",
   "execution_count": 25,
   "id": "c6d3eca7-18a2-45d7-a425-78bb50319047",
   "metadata": {},
   "outputs": [
    {
     "name": "stdout",
     "output_type": "stream",
     "text": [
      " 1  2  3  4  5  6  7  8  9 10 \n",
      "\n",
      " 2  4  6  8 10 12 14 16 18 20 \n",
      "\n",
      " 3  6  9 12 15 18 21 24 27 30 \n",
      "\n",
      " 4  8 12 16 20 24 28 32 36 40 \n",
      "\n",
      " 5 10 15 20 25 30 35 40 45 50 \n",
      "\n",
      " 6 12 18 24 30 36 42 48 54 60 \n",
      "\n",
      " 7 14 21 28 35 42 49 56 63 70 \n",
      "\n",
      " 8 16 24 32 40 48 56 64 72 80 \n",
      "\n",
      " 9 18 27 36 45 54 63 72 81 90 \n",
      "\n",
      "10 20 30 40 50 60 70 80 90 100 \n",
      "\n"
     ]
    }
   ],
   "source": [
    "## 6) Generate a multiplication table using nested loops.\n",
    "\n",
    "rows=10\n",
    "columns=10\n",
    "for i in range(1,rows+1):\n",
    "    for j in range(1,columns+1):\n",
    "        c=i*j\n",
    "        print(\"{:2d}\".format(c),end=' ')\n",
    "        #print(c , end=\"   \")\n",
    "    print(\"\\n\")"
   ]
  },
  {
   "cell_type": "code",
   "execution_count": null,
   "id": "0e1dc02d-3eb0-4d48-9b3a-8ae8297d6712",
   "metadata": {},
   "outputs": [],
   "source": []
  }
 ],
 "metadata": {
  "kernelspec": {
   "display_name": "Python 3 (ipykernel)",
   "language": "python",
   "name": "python3"
  },
  "language_info": {
   "codemirror_mode": {
    "name": "ipython",
    "version": 3
   },
   "file_extension": ".py",
   "mimetype": "text/x-python",
   "name": "python",
   "nbconvert_exporter": "python",
   "pygments_lexer": "ipython3",
   "version": "3.12.4"
  }
 },
 "nbformat": 4,
 "nbformat_minor": 5
}
